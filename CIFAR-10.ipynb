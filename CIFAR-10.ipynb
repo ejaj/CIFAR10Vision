{
 "cells": [
  {
   "cell_type": "code",
   "execution_count": 1,
   "id": "d6892e9d",
   "metadata": {},
   "outputs": [],
   "source": [
    "from __future__ import print_function"
   ]
  },
  {
   "cell_type": "code",
   "execution_count": 2,
   "id": "ba5e31d9",
   "metadata": {},
   "outputs": [],
   "source": [
    "import keras\n",
    "import scipy\n",
    "from keras.datasets import cifar10\n",
    "from keras.preprocessing.image import ImageDataGenerator\n",
    "from keras import layers"
   ]
  },
  {
   "cell_type": "code",
   "execution_count": 3,
   "id": "710be4b9",
   "metadata": {},
   "outputs": [],
   "source": [
    "batch_size = 32 \n",
    "num_classes = 10\n",
    "epochs = 100\n",
    "data_augmentation = True"
   ]
  },
  {
   "cell_type": "code",
   "execution_count": 4,
   "id": "04e21e93",
   "metadata": {},
   "outputs": [],
   "source": [
    "cifar_data = cifar10.load_data()\n",
    "# type(cifar_data)"
   ]
  },
  {
   "cell_type": "code",
   "execution_count": 5,
   "id": "98237c98",
   "metadata": {},
   "outputs": [],
   "source": [
    "(X_train, y_train), (X_test, y_test) = cifar_data"
   ]
  },
  {
   "cell_type": "code",
   "execution_count": 6,
   "id": "f99a5efd",
   "metadata": {},
   "outputs": [
    {
     "name": "stdout",
     "output_type": "stream",
     "text": [
      "X_train shape: (50000, 32, 32, 3)\n"
     ]
    }
   ],
   "source": [
    "print('X_train shape:', X_train.shape)"
   ]
  },
  {
   "cell_type": "code",
   "execution_count": 7,
   "id": "e7d3203b",
   "metadata": {},
   "outputs": [
    {
     "name": "stdout",
     "output_type": "stream",
     "text": [
      "50000 train samples\n",
      "10000 test samples\n"
     ]
    }
   ],
   "source": [
    "print(X_train.shape[0], 'train samples')\n",
    "print(X_test.shape[0], 'test samples')"
   ]
  },
  {
   "cell_type": "code",
   "execution_count": null,
   "id": "95f083b1",
   "metadata": {},
   "outputs": [],
   "source": []
  },
  {
   "cell_type": "markdown",
   "id": "55c9e021",
   "metadata": {},
   "source": [
    "***Convert class vectors to binary class matrices.***"
   ]
  },
  {
   "cell_type": "code",
   "execution_count": 8,
   "id": "8053be9b",
   "metadata": {},
   "outputs": [],
   "source": [
    "y_train = keras.utils.to_categorical(y_train, num_classes)"
   ]
  },
  {
   "cell_type": "code",
   "execution_count": 9,
   "id": "9727eb7b-8164-49bc-a362-131047c0beb3",
   "metadata": {},
   "outputs": [],
   "source": [
    "y_test = keras.utils.to_categorical(y_test, num_classes)"
   ]
  },
  {
   "cell_type": "code",
   "execution_count": 10,
   "id": "8d015138-e2e3-49a2-992d-653d3cad6150",
   "metadata": {},
   "outputs": [
    {
     "data": {
      "text/plain": [
       "(32, 32, 3)"
      ]
     },
     "execution_count": 10,
     "metadata": {},
     "output_type": "execute_result"
    }
   ],
   "source": [
    "X_train.shape[1:]"
   ]
  },
  {
   "cell_type": "markdown",
   "id": "d59ffdd8-d06a-4ca4-9a79-3dc8b514bb57",
   "metadata": {},
   "source": [
    "***Create a Sequential model***"
   ]
  },
  {
   "cell_type": "code",
   "execution_count": 11,
   "id": "22593999-991a-45ea-9a49-53ae041a72b1",
   "metadata": {},
   "outputs": [
    {
     "name": "stderr",
     "output_type": "stream",
     "text": [
      "2023-07-29 11:07:39.834110: E tensorflow/stream_executor/cuda/cuda_driver.cc:271] failed call to cuInit: CUDA_ERROR_NO_DEVICE: no CUDA-capable device is detected\n",
      "2023-07-29 11:07:39.834197: I tensorflow/stream_executor/cuda/cuda_diagnostics.cc:156] kernel driver does not appear to be running on this host (ejaj): /proc/driver/nvidia/version does not exist\n"
     ]
    }
   ],
   "source": [
    "model = keras.Sequential()"
   ]
  },
  {
   "cell_type": "code",
   "execution_count": 12,
   "id": "6641826e-fb9f-4ffd-a0c8-4fccf42e1029",
   "metadata": {},
   "outputs": [],
   "source": [
    "# Convolutional Block 1\n",
    "model.add(layers.Conv2D(32, (3, 3), padding='same', activation='relu', input_shape=X_train.shape[1:]))"
   ]
  },
  {
   "cell_type": "code",
   "execution_count": 13,
   "id": "553ced68-555c-4aaa-ad1e-043eb64e6e1a",
   "metadata": {},
   "outputs": [],
   "source": [
    "# Convolutional Block 2\n",
    "model.add(layers.Conv2D(48, (3, 3), padding='same', activation='relu'))\n",
    "model.add(layers.MaxPooling2D(pool_size=(2, 2)))\n",
    "model.add(layers.Dropout(0.25))"
   ]
  },
  {
   "cell_type": "code",
   "execution_count": 14,
   "id": "808550db-b8be-44dd-ac24-67c7aded8206",
   "metadata": {},
   "outputs": [],
   "source": [
    "# Convolutional Block 3\n",
    "model.add(layers.Conv2D(80, (3, 3), padding='same', activation='relu'))\n",
    "model.add(layers.MaxPooling2D(pool_size=(2, 2)))\n",
    "model.add(layers.Dropout(0.25))"
   ]
  },
  {
   "cell_type": "code",
   "execution_count": 15,
   "id": "45e4b8b3-588f-460b-a183-ae262e1b989e",
   "metadata": {},
   "outputs": [],
   "source": [
    "# Convolutional Block 4\n",
    "model.add(layers.Conv2D(128, (3, 3), padding='same', activation='relu'))\n",
    "model.add(layers.GlobalMaxPooling2D())\n",
    "model.add(layers.Dropout(0.25))"
   ]
  },
  {
   "cell_type": "code",
   "execution_count": 16,
   "id": "36ff9b4d-7232-4185-b8f0-468d46cb9774",
   "metadata": {},
   "outputs": [],
   "source": [
    "# Fully Connected Block\n",
    "model.add(layers.Dense(500, activation='relu'))\n",
    "model.add(layers.Dropout(0.25))"
   ]
  },
  {
   "cell_type": "code",
   "execution_count": 17,
   "id": "385e0bf6-cdf6-49ab-b2a2-1b474a334752",
   "metadata": {},
   "outputs": [],
   "source": [
    "# Output Layer\n",
    "model.add(layers.Dense(num_classes, activation='softmax'))"
   ]
  },
  {
   "cell_type": "code",
   "execution_count": 18,
   "id": "3ef6a51c-bf33-4589-8860-6d9a76cc20f1",
   "metadata": {},
   "outputs": [
    {
     "name": "stderr",
     "output_type": "stream",
     "text": [
      "/home/kazi/Projects/Python/CIFAR10Vision/venv/lib/python3.10/site-packages/keras/optimizers/optimizer_v2/adam.py:110: UserWarning: The `lr` argument is deprecated, use `learning_rate` instead.\n",
      "  super(Adam, self).__init__(name, **kwargs)\n"
     ]
    }
   ],
   "source": [
    "# Initiate the optimizer\n",
    "opt = keras.optimizers.Adam(lr=0.0001)"
   ]
  },
  {
   "cell_type": "code",
   "execution_count": 19,
   "id": "007ac0f7-1aa2-489c-a421-cd2465e9b3a4",
   "metadata": {},
   "outputs": [],
   "source": [
    "# Compile the model\n",
    "model.compile(loss='categorical_crossentropy',\n",
    "              optimizer=opt,\n",
    "              metrics=['accuracy'])"
   ]
  },
  {
   "cell_type": "code",
   "execution_count": 20,
   "id": "8656724e-38f0-4cf8-a6e0-c44668e6fa5c",
   "metadata": {},
   "outputs": [
    {
     "name": "stdout",
     "output_type": "stream",
     "text": [
      "Model: \"sequential\"\n",
      "_________________________________________________________________\n",
      " Layer (type)                Output Shape              Param #   \n",
      "=================================================================\n",
      " conv2d (Conv2D)             (None, 32, 32, 32)        896       \n",
      "                                                                 \n",
      " conv2d_1 (Conv2D)           (None, 32, 32, 48)        13872     \n",
      "                                                                 \n",
      " max_pooling2d (MaxPooling2D  (None, 16, 16, 48)       0         \n",
      " )                                                               \n",
      "                                                                 \n",
      " dropout (Dropout)           (None, 16, 16, 48)        0         \n",
      "                                                                 \n",
      " conv2d_2 (Conv2D)           (None, 16, 16, 80)        34640     \n",
      "                                                                 \n",
      " max_pooling2d_1 (MaxPooling  (None, 8, 8, 80)         0         \n",
      " 2D)                                                             \n",
      "                                                                 \n",
      " dropout_1 (Dropout)         (None, 8, 8, 80)          0         \n",
      "                                                                 \n",
      " conv2d_3 (Conv2D)           (None, 8, 8, 128)         92288     \n",
      "                                                                 \n",
      " global_max_pooling2d (Globa  (None, 128)              0         \n",
      " lMaxPooling2D)                                                  \n",
      "                                                                 \n",
      " dropout_2 (Dropout)         (None, 128)               0         \n",
      "                                                                 \n",
      " dense (Dense)               (None, 500)               64500     \n",
      "                                                                 \n",
      " dropout_3 (Dropout)         (None, 500)               0         \n",
      "                                                                 \n",
      " dense_1 (Dense)             (None, 10)                5010      \n",
      "                                                                 \n",
      "=================================================================\n",
      "Total params: 211,206\n",
      "Trainable params: 211,206\n",
      "Non-trainable params: 0\n",
      "_________________________________________________________________\n"
     ]
    }
   ],
   "source": [
    "model.summary()"
   ]
  },
  {
   "cell_type": "code",
   "execution_count": 21,
   "id": "eb3ca42d-8e41-4de4-bdf1-b8d7e4449063",
   "metadata": {},
   "outputs": [],
   "source": [
    "X_train = X_train.astype('float32')\n",
    "X_test = X_test.astype('float32')\n",
    "X_train /= 255\n",
    "X_test /= 255"
   ]
  },
  {
   "cell_type": "code",
   "execution_count": 22,
   "id": "234fd04a-7843-49b3-a35b-e7cc62340fba",
   "metadata": {},
   "outputs": [],
   "source": [
    "tb_callback = keras.callbacks.TensorBoard(log_dir='./Graph2', histogram_freq=0, write_graph=True, write_images=True)"
   ]
  },
  {
   "cell_type": "code",
   "execution_count": null,
   "id": "cc682b0f-3051-4559-a649-d3cda1f49007",
   "metadata": {},
   "outputs": [
    {
     "name": "stdout",
     "output_type": "stream",
     "text": [
      "Using real-time data augmentation.\n",
      "Epoch 1/100\n",
      "1562/1562 [==============================] - 291s 185ms/step - loss: 2.0416 - accuracy: 0.2257 - val_loss: 1.8292 - val_accuracy: 0.3299\n",
      "Epoch 2/100\n",
      "1562/1562 [==============================] - 278s 178ms/step - loss: 1.7998 - accuracy: 0.3241 - val_loss: 1.6934 - val_accuracy: 0.3850\n",
      "Epoch 3/100\n",
      "1562/1562 [==============================] - 271s 173ms/step - loss: 1.7018 - accuracy: 0.3640 - val_loss: 1.5942 - val_accuracy: 0.4303\n",
      "Epoch 4/100\n",
      "1562/1562 [==============================] - 279s 179ms/step - loss: 1.6283 - accuracy: 0.3999 - val_loss: 1.4951 - val_accuracy: 0.4564\n",
      "Epoch 5/100\n",
      "1562/1562 [==============================] - 271s 174ms/step - loss: 1.5589 - accuracy: 0.4272 - val_loss: 1.4528 - val_accuracy: 0.4725\n",
      "Epoch 6/100\n",
      "1562/1562 [==============================] - 272s 174ms/step - loss: 1.5034 - accuracy: 0.4527 - val_loss: 1.3602 - val_accuracy: 0.5101\n",
      "Epoch 7/100\n",
      "1562/1562 [==============================] - 272s 174ms/step - loss: 1.4567 - accuracy: 0.4704 - val_loss: 1.4027 - val_accuracy: 0.4941\n",
      "Epoch 8/100\n",
      "1562/1562 [==============================] - 272s 174ms/step - loss: 1.4061 - accuracy: 0.4891 - val_loss: 1.2633 - val_accuracy: 0.5434\n",
      "Epoch 9/100\n",
      "1562/1562 [==============================] - 272s 174ms/step - loss: 1.3721 - accuracy: 0.5021 - val_loss: 1.3015 - val_accuracy: 0.5362\n",
      "Epoch 10/100\n",
      "1562/1562 [==============================] - 272s 174ms/step - loss: 1.3358 - accuracy: 0.5158 - val_loss: 1.2437 - val_accuracy: 0.5518\n",
      "Epoch 11/100\n",
      "1562/1562 [==============================] - 271s 174ms/step - loss: 1.3078 - accuracy: 0.5313 - val_loss: 1.1410 - val_accuracy: 0.5956\n",
      "Epoch 12/100\n",
      "1562/1562 [==============================] - 280s 179ms/step - loss: 1.2783 - accuracy: 0.5418 - val_loss: 1.1426 - val_accuracy: 0.5899\n",
      "Epoch 13/100\n",
      "1562/1562 [==============================] - 332s 213ms/step - loss: 1.2531 - accuracy: 0.5502 - val_loss: 1.1313 - val_accuracy: 0.5957\n",
      "Epoch 14/100\n",
      "1562/1562 [==============================] - 293s 188ms/step - loss: 1.2266 - accuracy: 0.5602 - val_loss: 1.0718 - val_accuracy: 0.6171\n",
      "Epoch 15/100\n",
      "1562/1562 [==============================] - 333s 213ms/step - loss: 1.2050 - accuracy: 0.5694 - val_loss: 1.1500 - val_accuracy: 0.5908\n",
      "Epoch 16/100\n",
      "1562/1562 [==============================] - 335s 215ms/step - loss: 1.1821 - accuracy: 0.5796 - val_loss: 1.0535 - val_accuracy: 0.6255\n",
      "Epoch 17/100\n",
      "1562/1562 [==============================] - 326s 209ms/step - loss: 1.1548 - accuracy: 0.5891 - val_loss: 1.0440 - val_accuracy: 0.6268\n",
      "Epoch 18/100\n",
      "1562/1562 [==============================] - 320s 205ms/step - loss: 1.1428 - accuracy: 0.5916 - val_loss: 1.0234 - val_accuracy: 0.6364\n",
      "Epoch 19/100\n",
      "1562/1562 [==============================] - 347s 222ms/step - loss: 1.1184 - accuracy: 0.6030 - val_loss: 1.0256 - val_accuracy: 0.6387\n",
      "Epoch 20/100\n",
      "1562/1562 [==============================] - 420s 269ms/step - loss: 1.1110 - accuracy: 0.6071 - val_loss: 1.0013 - val_accuracy: 0.6464\n",
      "Epoch 21/100\n",
      "1562/1562 [==============================] - 386s 247ms/step - loss: 1.0901 - accuracy: 0.6107 - val_loss: 1.0006 - val_accuracy: 0.6416\n",
      "Epoch 22/100\n",
      "1562/1562 [==============================] - 315s 202ms/step - loss: 1.0750 - accuracy: 0.6160 - val_loss: 0.9488 - val_accuracy: 0.6635\n",
      "Epoch 23/100\n",
      "1562/1562 [==============================] - 327s 209ms/step - loss: 1.0554 - accuracy: 0.6240 - val_loss: 0.9548 - val_accuracy: 0.6630\n",
      "Epoch 24/100\n",
      "1562/1562 [==============================] - 321s 205ms/step - loss: 1.0495 - accuracy: 0.6255 - val_loss: 0.9240 - val_accuracy: 0.6758\n",
      "Epoch 25/100\n",
      "1562/1562 [==============================] - 298s 191ms/step - loss: 1.0409 - accuracy: 0.6306 - val_loss: 0.8878 - val_accuracy: 0.6827\n",
      "Epoch 26/100\n",
      "1562/1562 [==============================] - 323s 207ms/step - loss: 1.0252 - accuracy: 0.6361 - val_loss: 0.9437 - val_accuracy: 0.6697\n",
      "Epoch 27/100\n",
      "1562/1562 [==============================] - 367s 235ms/step - loss: 1.0145 - accuracy: 0.6391 - val_loss: 0.9024 - val_accuracy: 0.6833\n",
      "Epoch 28/100\n",
      "1562/1562 [==============================] - 319s 204ms/step - loss: 1.0016 - accuracy: 0.6475 - val_loss: 0.9609 - val_accuracy: 0.6562\n",
      "Epoch 29/100\n",
      "1562/1562 [==============================] - 297s 190ms/step - loss: 0.9973 - accuracy: 0.6449 - val_loss: 0.8660 - val_accuracy: 0.6904\n",
      "Epoch 30/100\n",
      "1562/1562 [==============================] - 281s 180ms/step - loss: 0.9823 - accuracy: 0.6519 - val_loss: 0.8637 - val_accuracy: 0.6895\n",
      "Epoch 31/100\n",
      "1562/1562 [==============================] - 282s 180ms/step - loss: 0.9729 - accuracy: 0.6556 - val_loss: 0.8698 - val_accuracy: 0.6926\n",
      "Epoch 32/100\n",
      "1562/1562 [==============================] - 277s 177ms/step - loss: 0.9657 - accuracy: 0.6600 - val_loss: 0.8395 - val_accuracy: 0.7031\n",
      "Epoch 33/100\n",
      "1562/1562 [==============================] - 283s 181ms/step - loss: 0.9537 - accuracy: 0.6640 - val_loss: 0.8526 - val_accuracy: 0.6969\n",
      "Epoch 34/100\n",
      "1562/1562 [==============================] - 275s 176ms/step - loss: 0.9483 - accuracy: 0.6650 - val_loss: 0.8777 - val_accuracy: 0.6873\n",
      "Epoch 35/100\n",
      "1562/1562 [==============================] - 276s 177ms/step - loss: 0.9417 - accuracy: 0.6654 - val_loss: 0.8377 - val_accuracy: 0.7063\n",
      "Epoch 36/100\n",
      "1562/1562 [==============================] - 308s 197ms/step - loss: 0.9298 - accuracy: 0.6723 - val_loss: 0.8503 - val_accuracy: 0.7036\n",
      "Epoch 37/100\n",
      "1562/1562 [==============================] - 344s 220ms/step - loss: 0.9252 - accuracy: 0.6715 - val_loss: 0.7785 - val_accuracy: 0.7219\n",
      "Epoch 38/100\n",
      "1562/1562 [==============================] - 306s 196ms/step - loss: 0.9223 - accuracy: 0.6758 - val_loss: 0.7917 - val_accuracy: 0.7195\n",
      "Epoch 39/100\n",
      "1562/1562 [==============================] - 321s 205ms/step - loss: 0.9083 - accuracy: 0.6801 - val_loss: 0.7879 - val_accuracy: 0.7247\n",
      "Epoch 40/100\n",
      "1562/1562 [==============================] - 284s 182ms/step - loss: 0.8991 - accuracy: 0.6842 - val_loss: 0.7755 - val_accuracy: 0.7305\n",
      "Epoch 41/100\n",
      "1562/1562 [==============================] - 298s 191ms/step - loss: 0.8990 - accuracy: 0.6810 - val_loss: 0.7521 - val_accuracy: 0.7336\n",
      "Epoch 42/100\n",
      "1562/1562 [==============================] - 304s 195ms/step - loss: 0.8901 - accuracy: 0.6873 - val_loss: 0.7678 - val_accuracy: 0.7279\n",
      "Epoch 43/100\n",
      "1562/1562 [==============================] - 314s 201ms/step - loss: 0.8862 - accuracy: 0.6869 - val_loss: 0.7729 - val_accuracy: 0.7279\n",
      "Epoch 44/100\n",
      "1562/1562 [==============================] - 304s 195ms/step - loss: 0.8729 - accuracy: 0.6924 - val_loss: 0.7750 - val_accuracy: 0.7240\n",
      "Epoch 45/100\n",
      "1562/1562 [==============================] - 382s 245ms/step - loss: 0.8754 - accuracy: 0.6897 - val_loss: 0.7778 - val_accuracy: 0.7250\n",
      "Epoch 46/100\n",
      "1562/1562 [==============================] - 424s 272ms/step - loss: 0.8633 - accuracy: 0.6965 - val_loss: 0.7161 - val_accuracy: 0.7453\n",
      "Epoch 47/100\n",
      "1562/1562 [==============================] - 391s 250ms/step - loss: 0.8628 - accuracy: 0.6973 - val_loss: 0.7414 - val_accuracy: 0.7377\n",
      "Epoch 48/100\n",
      "1562/1562 [==============================] - 297s 190ms/step - loss: 0.8577 - accuracy: 0.6998 - val_loss: 0.7559 - val_accuracy: 0.7328\n",
      "Epoch 49/100\n",
      "1562/1562 [==============================] - 314s 201ms/step - loss: 0.8488 - accuracy: 0.7000 - val_loss: 0.7151 - val_accuracy: 0.7473\n",
      "Epoch 50/100\n",
      "1562/1562 [==============================] - 364s 233ms/step - loss: 0.8440 - accuracy: 0.7029 - val_loss: 0.7206 - val_accuracy: 0.7462\n",
      "Epoch 51/100\n",
      "1562/1562 [==============================] - 327s 209ms/step - loss: 0.8394 - accuracy: 0.7047 - val_loss: 0.7856 - val_accuracy: 0.7217\n",
      "Epoch 52/100\n",
      "1562/1562 [==============================] - 324s 208ms/step - loss: 0.8361 - accuracy: 0.7082 - val_loss: 0.6862 - val_accuracy: 0.7566\n",
      "Epoch 53/100\n",
      "1562/1562 [==============================] - 312s 200ms/step - loss: 0.8293 - accuracy: 0.7081 - val_loss: 0.7229 - val_accuracy: 0.7463\n",
      "Epoch 54/100\n",
      "1562/1562 [==============================] - 298s 191ms/step - loss: 0.8255 - accuracy: 0.7118 - val_loss: 0.7190 - val_accuracy: 0.7497\n",
      "Epoch 55/100\n",
      "1562/1562 [==============================] - 316s 202ms/step - loss: 0.8263 - accuracy: 0.7096 - val_loss: 0.7276 - val_accuracy: 0.7394\n",
      "Epoch 56/100\n",
      "1562/1562 [==============================] - 307s 196ms/step - loss: 0.8210 - accuracy: 0.7134 - val_loss: 0.7320 - val_accuracy: 0.7428\n",
      "Epoch 57/100\n",
      "1562/1562 [==============================] - 286s 183ms/step - loss: 0.8124 - accuracy: 0.7155 - val_loss: 0.7083 - val_accuracy: 0.7524\n",
      "Epoch 58/100\n",
      "1562/1562 [==============================] - 310s 199ms/step - loss: 0.8105 - accuracy: 0.7163 - val_loss: 0.7512 - val_accuracy: 0.7396\n",
      "Epoch 59/100\n",
      "1562/1562 [==============================] - 302s 193ms/step - loss: 0.8112 - accuracy: 0.7170 - val_loss: 0.6982 - val_accuracy: 0.7559\n",
      "Epoch 60/100\n",
      "1562/1562 [==============================] - 371s 238ms/step - loss: 0.8036 - accuracy: 0.7165 - val_loss: 0.6861 - val_accuracy: 0.7573\n",
      "Epoch 61/100\n",
      "1562/1562 [==============================] - 403s 258ms/step - loss: 0.7961 - accuracy: 0.7190 - val_loss: 0.7045 - val_accuracy: 0.7537\n",
      "Epoch 62/100\n",
      "1562/1562 [==============================] - 370s 237ms/step - loss: 0.7948 - accuracy: 0.7221 - val_loss: 0.7585 - val_accuracy: 0.7369\n",
      "Epoch 63/100\n",
      "1562/1562 [==============================] - 372s 238ms/step - loss: 0.7949 - accuracy: 0.7213 - val_loss: 0.6793 - val_accuracy: 0.7644\n",
      "Epoch 64/100\n",
      "1562/1562 [==============================] - 373s 239ms/step - loss: 0.7887 - accuracy: 0.7231 - val_loss: 0.7198 - val_accuracy: 0.7478\n",
      "Epoch 65/100\n",
      "1562/1562 [==============================] - 423s 271ms/step - loss: 0.7882 - accuracy: 0.7243 - val_loss: 0.6749 - val_accuracy: 0.7651\n",
      "Epoch 66/100\n",
      "1030/1562 [==================>...........] - ETA: 2:06 - loss: 0.7740 - accuracy: 0.7296"
     ]
    }
   ],
   "source": [
    "import scipy\n",
    "if not data_augmentation:\n",
    "    print('Not using data augmentation.')\n",
    "    model.fit(\n",
    "        X_train, \n",
    "        y_train, \n",
    "        batch_size=batch_size, \n",
    "        epochs=epochs, \n",
    "        validation_data=(X_test, y_test), \n",
    "        shuffle=True, \n",
    "        callbacks=[tb_callback]\n",
    "    )\n",
    "else:\n",
    "    print('Using real-time data augmentation.')\n",
    "    datagen = ImageDataGenerator(\n",
    "        featurewise_center=False,  # set input mean to 0 over the dataset\n",
    "        samplewise_center=False,  # set each sample mean to 0\n",
    "        featurewise_std_normalization=False,  # divide inputs by std of the dataset\n",
    "        samplewise_std_normalization=False,  # divide each input by its std\n",
    "        zca_whitening=False,  # apply ZCA whitening\n",
    "        rotation_range=10,  # randomly rotate images in the range (degrees, 0 to 180)\n",
    "        width_shift_range=0.2,  # randomly shift images horizontally (fraction of total width)\n",
    "        height_shift_range=0.2,  # randomly shift images vertically (fraction of total height)\n",
    "        horizontal_flip=True,  # randomly flip images\n",
    "        vertical_flip=False  # randomly flip images\n",
    "    ) \n",
    "    datagen.fit(X_train)\n",
    "    model.fit(datagen.flow(X_train, y_train, batch_size=batch_size),\n",
    "          steps_per_epoch=X_train.shape[0] // batch_size,\n",
    "          epochs=epochs,\n",
    "          validation_data=(X_test, y_test),\n",
    "          callbacks=[tb_callback])"
   ]
  },
  {
   "cell_type": "code",
   "execution_count": null,
   "id": "0cf27d5c-d58f-4ff5-9124-7b16f24c4df2",
   "metadata": {},
   "outputs": [],
   "source": [
    "scores=model.evaluate(x_test,y_test,verbose=1)\n",
    "print(\"Test Loss\",scores[0])\n",
    "print(\"Test Accuracy\",scores[1])"
   ]
  }
 ],
 "metadata": {
  "kernelspec": {
   "display_name": "Python 3 (ipykernel)",
   "language": "python",
   "name": "python3"
  },
  "language_info": {
   "codemirror_mode": {
    "name": "ipython",
    "version": 3
   },
   "file_extension": ".py",
   "mimetype": "text/x-python",
   "name": "python",
   "nbconvert_exporter": "python",
   "pygments_lexer": "ipython3",
   "version": "3.10.6"
  }
 },
 "nbformat": 4,
 "nbformat_minor": 5
}
